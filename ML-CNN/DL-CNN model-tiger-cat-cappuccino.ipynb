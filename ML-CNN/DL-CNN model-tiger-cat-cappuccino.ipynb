{
 "cells": [
  {
   "cell_type": "code",
   "execution_count": 32,
   "metadata": {},
   "outputs": [],
   "source": [
    "import numpy as np\n",
    "import keras\n",
    "from keras import backend as K\n",
    "from keras.models import Sequential\n",
    "from keras.layers import Activation\n",
    "from keras.layers.core import Dense, Flatten\n",
    "from keras.optimizers import Adam\n",
    "from keras.metrics import categorical_crossentropy\n",
    "from keras.preprocessing.image import ImageDataGenerator\n",
    "from keras.layers.normalization import BatchNormalization\n",
    "from keras.layers.convolutional import *\n",
    "from sklearn.metrics import confusion_matrix\n",
    "from keras.models import load_model\n",
    "import itertools\n",
    "import matplotlib.pyplot as plt\n",
    "from PIL import Image\n",
    "from keras.models import Model\n",
    "from keras.preprocessing import image\n",
    "from keras.applications.imagenet_utils import preprocess_input, decode_predictions"
   ]
  },
  {
   "cell_type": "code",
   "execution_count": 47,
   "metadata": {},
   "outputs": [],
   "source": [
    "train_path = './train'\n",
    "valid_path = './valid'\n",
    "test_path = './test'"
   ]
  },
  {
   "cell_type": "code",
   "execution_count": 48,
   "metadata": {},
   "outputs": [],
   "source": [
    "# Data Augmentation\n",
    "data_generator_with_aug = ImageDataGenerator(horizontal_flip = True,\n",
    "                                             width_shift_range = 0.2,\n",
    "                                             height_shift_range = 0.2,\n",
    "                                             rescale=1./255)\n",
    "            \n",
    "data_generator_no_aug = ImageDataGenerator(rescale=1./255)\n"
   ]
  },
  {
   "cell_type": "code",
   "execution_count": 49,
   "metadata": {},
   "outputs": [],
   "source": [
    "# 圖檔大小IMAGEPIXELSIZE\n",
    "IPS=64"
   ]
  },
  {
   "cell_type": "code",
   "execution_count": 50,
   "metadata": {},
   "outputs": [
    {
     "name": "stdout",
     "output_type": "stream",
     "text": [
      "Found 1766 images belonging to 3 classes.\n",
      "Found 601 images belonging to 3 classes.\n",
      "Found 822 images belonging to 3 classes.\n"
     ]
    }
   ],
   "source": [
    "train_batches = ImageDataGenerator().flow_from_directory(train_path, target_size=(IPS,IPS), classes=['Tiger', 'Cat','Cappuccino'], batch_size=32,shuffle=True,class_mode='categorical')\n",
    "valid_batches = ImageDataGenerator().flow_from_directory(valid_path, target_size=(IPS,IPS), classes=['Tiger', 'Cat','Cappuccino'], batch_size=32,shuffle=True,class_mode='categorical')\n",
    "test_batches = ImageDataGenerator().flow_from_directory(test_path, target_size=(IPS,IPS), classes=['Tiger', 'Cat','Cappuccino'], batch_size=32,shuffle=True,class_mode='categorical')"
   ]
  },
  {
   "cell_type": "code",
   "execution_count": 51,
   "metadata": {},
   "outputs": [
    {
     "name": "stdout",
     "output_type": "stream",
     "text": [
      "(64, 64, 3)\n"
     ]
    }
   ],
   "source": [
    "#確認 image 的shape\n",
    "print(train_batches.image_shape)"
   ]
  },
  {
   "cell_type": "code",
   "execution_count": 52,
   "metadata": {},
   "outputs": [],
   "source": [
    "from keras.models import Sequential\n",
    "from keras.layers import Dense, Dropout, Activation, Flatten\n",
    "from keras.layers import Conv2D, MaxPooling2D, ZeroPadding2D\n",
    "from keras import regularizers"
   ]
  },
  {
   "cell_type": "code",
   "execution_count": 61,
   "metadata": {},
   "outputs": [],
   "source": [
    "# create model\n",
    "model = Sequential()\n",
    "#Convolution\n",
    "# bloack1\n",
    "model.add( Conv2D(filters=16,\n",
    "                  kernel_size=(6,6),\n",
    "                  input_shape=(IPS,IPS,3), \n",
    "                  activation='relu',\n",
    "                  padding='same' ))\n",
    "model.add(Dropout(0.25))\n",
    "'''model.add( Conv2D(filters=12,\n",
    "                  kernel_size=(3,3),                  \n",
    "                  activation='relu',\n",
    "                  padding='same' ))\n",
    "model.add( MaxPooling2D(pool_size=(2, 2)) )'''\n",
    "\n",
    "# bloack2\n",
    "model.add( Conv2D(filters=32,\n",
    "                  kernel_size=(6, 6),\n",
    "                  activation='relu',\n",
    "                  padding='same') )\n",
    "model.add(Dropout(0.25))\n",
    "model.add( MaxPooling2D(pool_size=(2, 2)) )\n"
   ]
  },
  {
   "cell_type": "code",
   "execution_count": 62,
   "metadata": {},
   "outputs": [],
   "source": [
    "#建立神經網路(平坦層、隱藏層、輸出層)\n",
    "model.add(Flatten())\n",
    "'''model.add(Dropout(0.25))'''''\n",
    "'''model.add(Dense(1024, activation='relu',kernel_regularizer=regularizers.l2(0.001)))\n",
    "model.add(Dropout(0.25))'''\n",
    "model.add(Dense(64, activation='relu',kernel_regularizer=regularizers.l2(0.001)))\n",
    "model.add(Dropout(0.25))\n",
    "model.add(Dense(3, activation='softmax'))"
   ]
  },
  {
   "cell_type": "code",
   "execution_count": 63,
   "metadata": {},
   "outputs": [],
   "source": [
    "model.compile(optimizer='Adam', loss='categorical_crossentropy', metrics=['accuracy'])"
   ]
  },
  {
   "cell_type": "code",
   "execution_count": 64,
   "metadata": {},
   "outputs": [
    {
     "name": "stdout",
     "output_type": "stream",
     "text": [
      "_________________________________________________________________\n",
      "Layer (type)                 Output Shape              Param #   \n",
      "=================================================================\n",
      "conv2d_9 (Conv2D)            (None, 64, 64, 32)        3488      \n",
      "_________________________________________________________________\n",
      "dropout_11 (Dropout)         (None, 64, 64, 32)        0         \n",
      "_________________________________________________________________\n",
      "conv2d_10 (Conv2D)           (None, 64, 64, 32)        9248      \n",
      "_________________________________________________________________\n",
      "dropout_12 (Dropout)         (None, 64, 64, 32)        0         \n",
      "_________________________________________________________________\n",
      "max_pooling2d_5 (MaxPooling2 (None, 32, 32, 32)        0         \n",
      "_________________________________________________________________\n",
      "flatten_5 (Flatten)          (None, 32768)             0         \n",
      "_________________________________________________________________\n",
      "dense_9 (Dense)              (None, 64)                2097216   \n",
      "_________________________________________________________________\n",
      "dropout_13 (Dropout)         (None, 64)                0         \n",
      "_________________________________________________________________\n",
      "dense_10 (Dense)             (None, 3)                 195       \n",
      "=================================================================\n",
      "Total params: 2,110,147\n",
      "Trainable params: 2,110,147\n",
      "Non-trainable params: 0\n",
      "_________________________________________________________________\n",
      "None\n"
     ]
    }
   ],
   "source": [
    "print(model.summary())"
   ]
  },
  {
   "cell_type": "code",
   "execution_count": 65,
   "metadata": {},
   "outputs": [
    {
     "name": "stdout",
     "output_type": "stream",
     "text": [
      "載入模型失敗!開始訓練一個新模型\n"
     ]
    }
   ],
   "source": [
    "#取出存檔權重\n",
    "try:\n",
    "    model.load_weights(\"SaveModel/Tiger-Cat-Cappuccino-model-base-CNN.h5\")\n",
    "    print(\"載入模型成功!繼續訓練模型\")\n",
    "except :    \n",
    "    print(\"載入模型失敗!開始訓練一個新模型\")"
   ]
  },
  {
   "cell_type": "code",
   "execution_count": 66,
   "metadata": {},
   "outputs": [],
   "source": [
    "from keras.callbacks import EarlyStopping\n",
    "early_stopping_monitor = EarlyStopping(patience=100)"
   ]
  },
  {
   "cell_type": "code",
   "execution_count": 67,
   "metadata": {},
   "outputs": [
    {
     "data": {
      "text/plain": [
       "55"
      ]
     },
     "execution_count": 67,
     "metadata": {},
     "output_type": "execute_result"
    }
   ],
   "source": [
    "step_size_train=train_batches.n//train_batches.batch_size\n",
    "step_size_train"
   ]
  },
  {
   "cell_type": "code",
   "execution_count": null,
   "metadata": {},
   "outputs": [
    {
     "name": "stdout",
     "output_type": "stream",
     "text": [
      "Epoch 1/20\n",
      "55/55 [==============================] - 11s 205ms/step - loss: 10.1477 - acc: 0.3751 - val_loss: 11.9286 - val_acc: 0.2656\n",
      "Epoch 2/20\n",
      "55/55 [==============================] - 10s 188ms/step - loss: 10.1813 - acc: 0.3740 - val_loss: 9.1563 - val_acc: 0.4375\n",
      "Epoch 3/20\n",
      "55/55 [==============================] - 11s 196ms/step - loss: 10.2960 - acc: 0.3667 - val_loss: 13.1836 - val_acc: 0.1875\n",
      "Epoch 4/20\n",
      "55/55 [==============================] - 11s 206ms/step - loss: 10.2229 - acc: 0.3711 - val_loss: 10.2654 - val_acc: 0.3684\n",
      "Epoch 5/20\n",
      "55/55 [==============================] - 11s 195ms/step - loss: 10.1955 - acc: 0.3727 - val_loss: 11.9202 - val_acc: 0.2656\n",
      "Epoch 6/20\n",
      "55/55 [==============================] - 11s 200ms/step - loss: 10.2073 - acc: 0.3718 - val_loss: 11.1626 - val_acc: 0.3125\n",
      "Epoch 7/20\n",
      "55/55 [==============================] - 12s 215ms/step - loss: 10.3380 - acc: 0.3636 - val_loss: 11.6643 - val_acc: 0.2812\n",
      "Epoch 8/20\n",
      "55/55 [==============================] - 12s 217ms/step - loss: 10.1185 - acc: 0.3771 - val_loss: 11.9142 - val_acc: 0.2656\n",
      "Epoch 9/20\n",
      "55/55 [==============================] - 12s 220ms/step - loss: 9.9860 - acc: 0.3852 - val_loss: 10.6531 - val_acc: 0.3438\n",
      "Epoch 10/20\n",
      "55/55 [==============================] - 12s 218ms/step - loss: 10.3369 - acc: 0.3633 - val_loss: 11.6586 - val_acc: 0.2812\n",
      "Epoch 11/20\n",
      "55/55 [==============================] - 12s 221ms/step - loss: 10.2205 - acc: 0.3704 - val_loss: 11.6568 - val_acc: 0.2812\n",
      "Epoch 12/20\n",
      "55/55 [==============================] - 13s 236ms/step - loss: 10.1912 - acc: 0.3721 - val_loss: 10.3958 - val_acc: 0.3594\n",
      "Epoch 13/20\n",
      "55/55 [==============================] - 13s 228ms/step - loss: 10.2422 - acc: 0.3688 - val_loss: 9.8903 - val_acc: 0.3906\n",
      "Epoch 14/20\n",
      "55/55 [==============================] - 13s 239ms/step - loss: 10.1963 - acc: 0.3716 - val_loss: 11.6604 - val_acc: 0.2807\n",
      "Epoch 15/20\n",
      "32/55 [================>.............] - ETA: 5s - loss: 10.1557 - acc: 0.3740"
     ]
    }
   ],
   "source": [
    "# model.fit_generator\n",
    "history_ft=model.fit_generator(train_batches,\n",
    "                               validation_data=valid_batches,\n",
    "                               steps_per_epoch=step_size_train,\n",
    "                               epochs=20,\n",
    "                               verbose=1,\n",
    "                               class_weight='auto',\n",
    "                               validation_steps=2,\n",
    "                               callbacks = [early_stopping_monitor])"
   ]
  },
  {
   "cell_type": "code",
   "execution_count": null,
   "metadata": {},
   "outputs": [],
   "source": [
    "# 训练的acc_loss图\n",
    "def plot_training(history):\n",
    "  acc = history.history['acc']\n",
    "  val_acc = history.history['val_acc']\n",
    "  loss = history.history['loss']\n",
    "  val_loss = history.history['val_loss']\n",
    "  epochs = range(len(acc))\n",
    "  plt.plot(epochs, acc, 'r.')\n",
    "  plt.plot(epochs, val_acc, 'r')\n",
    "  plt.title('Training and validation accuracy')\n",
    "  plt.figure()\n",
    "  plt.plot(epochs, loss, 'r.')\n",
    "  plt.plot(epochs, val_loss, 'r-')\n",
    "  plt.title('Training and validation loss')\n",
    "  plt.show()\n",
    "\n",
    "plot_training(history_ft)"
   ]
  },
  {
   "cell_type": "code",
   "execution_count": null,
   "metadata": {},
   "outputs": [],
   "source": [
    "#儲存model權重 by h5\n",
    "model.save_weights(\"SaveModel/Tiger-Cat-Cappuccino-model-base-CNN.h5\")\n",
    "print(\"Saved mode to disk\")"
   ]
  },
  {
   "cell_type": "code",
   "execution_count": null,
   "metadata": {},
   "outputs": [],
   "source": [
    "img_path = 'Tiger.jpg'\n",
    "img = image.load_img(img_path, target_size=(IPS, IPS))"
   ]
  },
  {
   "cell_type": "code",
   "execution_count": 310,
   "metadata": {},
   "outputs": [
    {
     "data": {
      "text/plain": [
       "array([0.23024124, 0.51537836, 0.25438038], dtype=float32)"
      ]
     },
     "execution_count": 310,
     "metadata": {},
     "output_type": "execute_result"
    }
   ],
   "source": [
    "# 預測函數\n",
    "# 輸入：model，圖片，目標尺寸\n",
    "# 輸出：預測predict\n",
    "target_size=(IPS, IPS)\n",
    "def predict(model, img, target_size):  \n",
    "    if img.size != target_size:\n",
    "        img = img.resize(target_size)\n",
    "\n",
    "    x = image.img_to_array(img)\n",
    "    x = np.expand_dims(x, axis=0)\n",
    "    x = preprocess_input(x)\n",
    "    x /= 255 # Rescale by 1/255\n",
    "    preds = model.predict(x)\n",
    "    return preds[0]\n",
    "\n",
    "train_batches.class_indices.items()\n",
    "preds = predict(model, img, target_size)\n",
    "preds"
   ]
  },
  {
   "cell_type": "code",
   "execution_count": 311,
   "metadata": {},
   "outputs": [
    {
     "data": {
      "image/png": "[encoded data removed]",
      "text/plain": [
       "<Figure size 432x288 with 1 Axes>"
      ]
     },
     "metadata": {
      "needs_background": "light"
     },
     "output_type": "display_data"
    },
    {
     "data": {
      "image/png": "[encoded data removed]",
      "text/plain": [
       "<Figure size 432x288 with 1 Axes>"
      ]
     },
     "metadata": {
      "needs_background": "light"
     },
     "output_type": "display_data"
    }
   ],
   "source": [
    "labels = ('Tiger', 'Cat','Cappuccino')\n",
    "def plot_preds(image, preds,labels):\n",
    "  \"\"\"Displays image and the top-n predicted probabilities in a bar graph\n",
    "  Args:\n",
    "    image: PIL image\n",
    "    preds: list of predicted labels and their probabilities\n",
    "  \"\"\"\n",
    "  plt.imshow(image)\n",
    "  plt.axis('off')\n",
    "  plt.figure()\n",
    "  plt.barh([0,1,2], preds, alpha=0.5)\n",
    "  plt.yticks([0,1,2], labels)\n",
    "  plt.xlabel('Probability')\n",
    "  plt.xlim(0,1.01)\n",
    "  plt.tight_layout()\n",
    "  plt.show()\n",
    "    \n",
    "plot_preds(img, preds,labels)"
   ]
  },
  {
   "cell_type": "code",
   "execution_count": null,
   "metadata": {},
   "outputs": [],
   "source": []
  }
 ],
 "metadata": {
  "kernelspec": {
   "display_name": "Python 3",
   "language": "python",
   "name": "python3"
  },
  "language_info": {
   "codemirror_mode": {
    "name": "ipython",
    "version": 3
   },
   "file_extension": ".py",
   "mimetype": "text/x-python",
   "name": "python",
   "nbconvert_exporter": "python",
   "pygments_lexer": "ipython3",
   "version": "3.6.6"
  }
 },
 "nbformat": 4,
 "nbformat_minor": 2
}
