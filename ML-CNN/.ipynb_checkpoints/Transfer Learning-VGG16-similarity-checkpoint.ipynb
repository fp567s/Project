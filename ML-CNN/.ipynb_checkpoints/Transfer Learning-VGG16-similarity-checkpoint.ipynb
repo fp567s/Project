{
 "cells": [
  {
   "cell_type": "code",
   "execution_count": 1,
   "metadata": {},
   "outputs": [
    {
     "name": "stderr",
     "output_type": "stream",
     "text": [
      "C:\\Users\\user\\Anaconda3\\envs\\tensorflow-CPU\\lib\\site-packages\\h5py\\__init__.py:36: FutureWarning: Conversion of the second argument of issubdtype from `float` to `np.floating` is deprecated. In future, it will be treated as `np.float64 == np.dtype(float).type`.\n",
      "  from ._conv import register_converters as _register_converters\n",
      "Using TensorFlow backend.\n"
     ]
    }
   ],
   "source": [
    "from keras.applications.vgg16 import VGG16\n",
    "from keras.preprocessing import image\n",
    "from keras.applications.vgg16 import preprocess_input, decode_predictions\n",
    "import numpy as np\n",
    "import os\n",
    "import sys"
   ]
  },
  {
   "cell_type": "code",
   "execution_count": 174,
   "metadata": {},
   "outputs": [
    {
     "name": "stdout",
     "output_type": "stream",
     "text": [
      "隨機取第 14 樣本\n",
      "[-0.07927258 -0.07376449 -0.06698906 -0.08536506 -0.06974095 -0.14128281\n",
      " -0.21991342 -0.16084409 -0.218145   -0.2959209  -0.07979457 -0.30015504\n",
      " -0.1342987  -1.        ]\n",
      "清單為: ['Cappuccino-2', 'Cappuccino-3', 'Cappuccino-4', 'Cappuccino', 'cat-2', 'cat-3', 'cat-4', 'cat-5', 'cat-6', 'cat', 'JINJIN', 'tiger-2', 'tiger-3', 'tiger']\n",
      "tiger 與它相似的圖形有 ['tiger-2', 'cat']\n"
     ]
    }
   ],
   "source": [
    "# 計算相似矩陣\n",
    "def cosine_similarity(ratings):\n",
    "    sim = ratings.dot(ratings.T) # .T 為numpy 的轉置\n",
    "    if not isinstance(sim, np.ndarray):\n",
    "        sim = sim.toarray()\n",
    "    norms = np.array([np.sqrt(np.diagonal(sim))])\n",
    "    return (sim / norms / norms.T)\n",
    "    \n",
    "def main():\n",
    "    # 自 images 目錄找出所有 JPEG 檔案    \n",
    "    y_test=[]\n",
    "    x_test=[]\n",
    "    for img_path in os.listdir(\"similarity\"):\n",
    "        if img_path.endswith(\".jpg\"):\n",
    "            img = image.load_img(\"similarity/\"+img_path, target_size=(224, 224))\n",
    "            y_test.append(os.path.splitext(img_path)[0])\n",
    "            x = image.img_to_array(img)\n",
    "            x = np.expand_dims(x, axis=0)\n",
    "            if len(x_test) > 0:\n",
    "                x_test = np.concatenate((x_test,x))\n",
    "            else:\n",
    "                x_test=x\n",
    "    \n",
    "    # 轉成 VGG 的 input 格式\n",
    "    x_test = preprocess_input(x_test)\n",
    "\n",
    "    # include_top=False，表示會載入 VGG16 的模型，不包括加在最後3層的卷積層，通常是取得 Features (1,7,7,512)\n",
    "    model = VGG16(weights='imagenet', include_top=False) \n",
    "    \n",
    "    # 萃取特徵\n",
    "    features = model.predict(x_test)\n",
    "    # 計算相似矩陣\n",
    "    features_compress = features.reshape(len(y_test),7*7*512) # numpy reshape 改變array\n",
    "    sim = cosine_similarity(features_compress)\n",
    "\n",
    "    # 隨機取1個樣本測試\n",
    "    inputNo = np.random.randint(0,len(y_test),1)[0]\n",
    "    print('隨機取第',inputNo+1,\"樣本\")\n",
    "    top = np.argsort(-sim[inputNo], axis=0)[1:3]  #argsort函数返回的是数组值从小到大的索引值,#axis=0 按列排序, # 第2~3\n",
    "    print(-sim[inputNo])\n",
    "    \n",
    "    # 取得最相似的前2名序號\n",
    "    recommend = [y_test[i] for i in top]\n",
    "    print(\"清單為:\",y_test)\n",
    "    print(y_test[inputNo],\"與它相似的圖形有\",recommend)\n",
    "\n",
    "if __name__ == \"__main__\":\n",
    "    main()"
   ]
  },
  {
   "cell_type": "code",
   "execution_count": 175,
   "metadata": {},
   "outputs": [],
   "source": [
    "import matplotlib.pyplot as plt\n",
    "def plot_images_labels(images,labels,idx=0,num=4):\n",
    "    fig = plt.gcf()\n",
    "    fig.set_size_inches(14, 16)\n",
    "    if num>25: num=25 \n",
    "    for i in range(0, num):\n",
    "        ax=plt.subplot(5,5, 1+i)\n",
    "        ax.imshow(images[idx],cmap='binary') #cmap='binary'\n",
    "        title= \"label=\" +str(labels[idx])\n",
    "        ax.set_title(title,fontsize=10) \n",
    "        ax.set_xticks([]);ax.set_yticks([])        \n",
    "        idx+=1\n",
    "    plt.show()"
   ]
  },
  {
   "cell_type": "code",
   "execution_count": 173,
   "metadata": {},
   "outputs": [
    {
     "name": "stderr",
     "output_type": "stream",
     "text": [
      "Clipping input data to the valid range for imshow with RGB data ([0..1] for floats or [0..255] for integers).\n",
      "Clipping input data to the valid range for imshow with RGB data ([0..1] for floats or [0..255] for integers).\n",
      "Clipping input data to the valid range for imshow with RGB data ([0..1] for floats or [0..255] for integers).\n",
      "Clipping input data to the valid range for imshow with RGB data ([0..1] for floats or [0..255] for integers).\n"
     ]
    },
    {
     "data": {
      "image/png": "[encoded data removed]",
      "text/plain": [
       "<Figure size 1008x1152 with 4 Axes>"
      ]
     },
     "metadata": {},
     "output_type": "display_data"
    }
   ],
   "source": [
    "plot_images_labels(x_test,y_test)"
   ]
  },
  {
   "cell_type": "code",
   "execution_count": null,
   "metadata": {},
   "outputs": [],
   "source": []
  }
 ],
 "metadata": {
  "kernelspec": {
   "display_name": "Python 3",
   "language": "python",
   "name": "python3"
  },
  "language_info": {
   "codemirror_mode": {
    "name": "ipython",
    "version": 3
   },
   "file_extension": ".py",
   "mimetype": "text/x-python",
   "name": "python",
   "nbconvert_exporter": "python",
   "pygments_lexer": "ipython3",
   "version": "3.5.5"
  }
 },
 "nbformat": 4,
 "nbformat_minor": 2
}
