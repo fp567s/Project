{
 "cells": [
  {
   "cell_type": "code",
   "execution_count": 312,
   "metadata": {},
   "outputs": [],
   "source": [
    "import numpy as np\n",
    "import keras\n",
    "from keras import backend as K\n",
    "from keras.models import Sequential\n",
    "from keras.layers import Activation\n",
    "from keras.layers.core import Dense, Flatten\n",
    "from keras.optimizers import Adam\n",
    "from keras.metrics import categorical_crossentropy\n",
    "from keras.preprocessing.image import ImageDataGenerator\n",
    "from keras.layers.normalization import BatchNormalization\n",
    "from keras.layers.convolutional import *\n",
    "from sklearn.metrics import confusion_matrix\n",
    "from keras.models import load_model\n",
    "import itertools\n",
    "import matplotlib.pyplot as plt\n",
    "from PIL import Image\n",
    "from keras.models import Model\n",
    "from keras.preprocessing import image\n",
    "from keras.applications.imagenet_utils import preprocess_input, decode_predictions"
   ]
  },
  {
   "cell_type": "code",
   "execution_count": 313,
   "metadata": {},
   "outputs": [],
   "source": [
    "train_path = './train'\n",
    "valid_path = './valid'\n",
    "test_path = './test'"
   ]
  },
  {
   "cell_type": "code",
   "execution_count": 314,
   "metadata": {},
   "outputs": [],
   "source": [
    "# Data Augmentation\n",
    "data_generator_with_aug = ImageDataGenerator(horizontal_flip = True,\n",
    "                                             width_shift_range = 0.2,\n",
    "                                             height_shift_range = 0.2,\n",
    "                                             rescale=1./255)\n",
    "            \n",
    "data_generator_no_aug = ImageDataGenerator(rescale=1./255)\n"
   ]
  },
  {
   "cell_type": "code",
   "execution_count": 315,
   "metadata": {},
   "outputs": [],
   "source": [
    "# 圖檔大小IMAGEPIXELSIZE\n",
    "IPS=64"
   ]
  },
  {
   "cell_type": "code",
   "execution_count": 316,
   "metadata": {},
   "outputs": [
    {
     "name": "stdout",
     "output_type": "stream",
     "text": [
      "Found 1766 images belonging to 3 classes.\n",
      "Found 601 images belonging to 3 classes.\n",
      "Found 822 images belonging to 3 classes.\n"
     ]
    }
   ],
   "source": [
    "train_batches = ImageDataGenerator().flow_from_directory(train_path, target_size=(IPS,IPS), classes=['Tiger', 'Cat','Cappuccino'], batch_size=32,shuffle=True,class_mode='categorical')\n",
    "valid_batches = ImageDataGenerator().flow_from_directory(valid_path, target_size=(IPS,IPS), classes=['Tiger', 'Cat','Cappuccino'], batch_size=32,shuffle=True,class_mode='categorical')\n",
    "test_batches = ImageDataGenerator().flow_from_directory(test_path, target_size=(IPS,IPS), classes=['Tiger', 'Cat','Cappuccino'], batch_size=32,shuffle=True,class_mode='categorical')"
   ]
  },
  {
   "cell_type": "code",
   "execution_count": 317,
   "metadata": {},
   "outputs": [
    {
     "name": "stdout",
     "output_type": "stream",
     "text": [
      "(64, 64, 3)\n"
     ]
    }
   ],
   "source": [
    "#確認 image 的shape\n",
    "print(train_batches.image_shape)"
   ]
  },
  {
   "cell_type": "code",
   "execution_count": 318,
   "metadata": {},
   "outputs": [],
   "source": [
    "from keras.models import Sequential\n",
    "from keras.layers import Dense, Dropout, Activation, Flatten\n",
    "from keras.layers import Conv2D, MaxPooling2D, ZeroPadding2D\n",
    "from keras import regularizers"
   ]
  },
  {
   "cell_type": "code",
   "execution_count": 319,
   "metadata": {},
   "outputs": [],
   "source": [
    "# create model\n",
    "model = Sequential()\n",
    "#Convolution\n",
    "# bloack1\n",
    "model.add( Conv2D(filters=16,\n",
    "                  kernel_size=(2,2),\n",
    "                  input_shape=(IPS,IPS,3), \n",
    "                  activation='relu',\n",
    "                  padding='same' ))\n",
    "'''model.add( Conv2D(filters=16,\n",
    "                  kernel_size=(2,2),                  \n",
    "                  activation='relu',\n",
    "                  padding='same' ))'''\n",
    "model.add( MaxPooling2D(pool_size=(2, 2)) )\n",
    "\n",
    "# bloack2\n",
    "model.add( Conv2D(filters=32,\n",
    "                  kernel_size=(3, 3),\n",
    "                  activation='relu',\n",
    "                  padding='same') )\n",
    "model.add( MaxPooling2D(pool_size=(2, 2)) )"
   ]
  },
  {
   "cell_type": "code",
   "execution_count": 320,
   "metadata": {},
   "outputs": [],
   "source": [
    "#建立神經網路(平坦層、隱藏層、輸出層)\n",
    "model.add(Flatten())\n",
    "model.add(Dropout(0.25))\n",
    "'''model.add(Dense(1024, activation='relu',kernel_regularizer=regularizers.l2(0.001)))\n",
    "model.add(Dropout(0.25))'''\n",
    "model.add(Dense(32, activation='relu',kernel_regularizer=regularizers.l2(0.001)))\n",
    "model.add(Dropout(0.25))\n",
    "model.add(Dense(3, activation='softmax'))"
   ]
  },
  {
   "cell_type": "code",
   "execution_count": 321,
   "metadata": {},
   "outputs": [],
   "source": [
    "model.compile(optimizer='Adam', loss='categorical_crossentropy', metrics=['accuracy'])"
   ]
  },
  {
   "cell_type": "code",
   "execution_count": 322,
   "metadata": {},
   "outputs": [
    {
     "name": "stdout",
     "output_type": "stream",
     "text": [
      "_________________________________________________________________\n",
      "Layer (type)                 Output Shape              Param #   \n",
      "=================================================================\n",
      "conv2d_55 (Conv2D)           (None, 64, 64, 16)        208       \n",
      "_________________________________________________________________\n",
      "conv2d_56 (Conv2D)           (None, 64, 64, 16)        1040      \n",
      "_________________________________________________________________\n",
      "max_pooling2d_36 (MaxPooling (None, 32, 32, 16)        0         \n",
      "_________________________________________________________________\n",
      "conv2d_57 (Conv2D)           (None, 32, 32, 32)        4640      \n",
      "_________________________________________________________________\n",
      "max_pooling2d_37 (MaxPooling (None, 16, 16, 32)        0         \n",
      "_________________________________________________________________\n",
      "flatten_22 (Flatten)         (None, 8192)              0         \n",
      "_________________________________________________________________\n",
      "dropout_66 (Dropout)         (None, 8192)              0         \n",
      "_________________________________________________________________\n",
      "dense_51 (Dense)             (None, 32)                262176    \n",
      "_________________________________________________________________\n",
      "dropout_67 (Dropout)         (None, 32)                0         \n",
      "_________________________________________________________________\n",
      "dense_52 (Dense)             (None, 3)                 99        \n",
      "=================================================================\n",
      "Total params: 268,163\n",
      "Trainable params: 268,163\n",
      "Non-trainable params: 0\n",
      "_________________________________________________________________\n",
      "None\n"
     ]
    }
   ],
   "source": [
    "print(model.summary())"
   ]
  },
  {
   "cell_type": "code",
   "execution_count": 323,
   "metadata": {},
   "outputs": [
    {
     "name": "stdout",
     "output_type": "stream",
     "text": [
      "載入模型失敗!開始訓練一個新模型\n"
     ]
    }
   ],
   "source": [
    "#取出存檔權重\n",
    "try:\n",
    "    model.load_weights(\"SaveModel/Tiger-Cat-Cappuccino-model-base-CNN.h5\")\n",
    "    print(\"載入模型成功!繼續訓練模型\")\n",
    "except :    \n",
    "    print(\"載入模型失敗!開始訓練一個新模型\")"
   ]
  },
  {
   "cell_type": "code",
   "execution_count": 324,
   "metadata": {},
   "outputs": [],
   "source": [
    "from keras.callbacks import EarlyStopping\n",
    "early_stopping_monitor = EarlyStopping(patience=10)"
   ]
  },
  {
   "cell_type": "code",
   "execution_count": 325,
   "metadata": {},
   "outputs": [
    {
     "data": {
      "text/plain": [
       "55"
      ]
     },
     "execution_count": 325,
     "metadata": {},
     "output_type": "execute_result"
    }
   ],
   "source": [
    "step_size_train=train_batches.n//train_batches.batch_size\n",
    "step_size_train"
   ]
  },
  {
   "cell_type": "code",
   "execution_count": 326,
   "metadata": {},
   "outputs": [
    {
     "name": "stdout",
     "output_type": "stream",
     "text": [
      "Epoch 1/20\n",
      "55/55 [==============================] - 12s 222ms/step - loss: 10.1190 - acc: 0.3722 - val_loss: 10.3694 - val_acc: 0.3594\n",
      "Epoch 2/20\n",
      "55/55 [==============================] - 11s 198ms/step - loss: 10.1765 - acc: 0.3713 - val_loss: 12.1298 - val_acc: 0.2500\n",
      "Epoch 3/20\n",
      "55/55 [==============================] - 11s 196ms/step - loss: 10.1511 - acc: 0.3727 - val_loss: 10.8683 - val_acc: 0.3281\n",
      "Epoch 4/20\n",
      "55/55 [==============================] - 11s 195ms/step - loss: 10.1055 - acc: 0.3754 - val_loss: 12.8811 - val_acc: 0.2031\n",
      "Epoch 5/20\n",
      "55/55 [==============================] - 11s 195ms/step - loss: 10.2021 - acc: 0.3693 - val_loss: 11.1164 - val_acc: 0.3125\n",
      "Epoch 6/20\n",
      "55/55 [==============================] - 11s 197ms/step - loss: 10.2485 - acc: 0.3663 - val_loss: 11.3665 - val_acc: 0.2969\n",
      "Epoch 7/20\n",
      "55/55 [==============================] - 11s 196ms/step - loss: 10.1026 - acc: 0.3752 - val_loss: 10.1057 - val_acc: 0.3750\n",
      "Epoch 8/20\n",
      "55/55 [==============================] - 11s 196ms/step - loss: 10.1123 - acc: 0.3745 - val_loss: 10.6079 - val_acc: 0.3438\n",
      "Epoch 9/20\n",
      "55/55 [==============================] - 11s 195ms/step - loss: 10.1682 - acc: 0.3710 - val_loss: 11.3620 - val_acc: 0.2969\n",
      "Epoch 10/20\n",
      "55/55 [==============================] - 11s 197ms/step - loss: 10.0631 - acc: 0.3772 - val_loss: 11.0676 - val_acc: 0.3158\n",
      "Epoch 11/20\n",
      "55/55 [==============================] - 11s 194ms/step - loss: 10.1220 - acc: 0.3744 - val_loss: 11.3704 - val_acc: 0.2969\n",
      "Epoch 12/20\n",
      "55/55 [==============================] - 11s 195ms/step - loss: 10.3237 - acc: 0.3618 - val_loss: 12.1239 - val_acc: 0.2500\n",
      "Epoch 13/20\n",
      "55/55 [==============================] - 11s 195ms/step - loss: 9.9255 - acc: 0.3863 - val_loss: 10.8628 - val_acc: 0.3281\n",
      "Epoch 14/20\n",
      "55/55 [==============================] - 11s 202ms/step - loss: 10.1735 - acc: 0.3708 - val_loss: 12.1204 - val_acc: 0.2500\n",
      "Epoch 15/20\n",
      "55/55 [==============================] - 11s 198ms/step - loss: 10.3305 - acc: 0.3605 - val_loss: 9.6005 - val_acc: 0.4062\n",
      "Epoch 16/20\n",
      "55/55 [==============================] - 11s 196ms/step - loss: 10.1178 - acc: 0.3741 - val_loss: 11.1101 - val_acc: 0.3125\n",
      "Epoch 17/20\n",
      "55/55 [==============================] - 11s 197ms/step - loss: 10.0683 - acc: 0.3771 - val_loss: 11.3606 - val_acc: 0.2969\n",
      "Epoch 18/20\n",
      "55/55 [==============================] - 11s 196ms/step - loss: 10.3878 - acc: 0.3572 - val_loss: 11.3594 - val_acc: 0.2969\n",
      "Epoch 19/20\n",
      "55/55 [==============================] - 11s 198ms/step - loss: 10.1323 - acc: 0.3730 - val_loss: 11.3361 - val_acc: 0.2982\n",
      "Epoch 20/20\n",
      "55/55 [==============================] - 11s 196ms/step - loss: 10.0050 - acc: 0.3808 - val_loss: 10.3497 - val_acc: 0.3594\n"
     ]
    }
   ],
   "source": [
    "# model.fit_generator\n",
    "history_ft=model.fit_generator(train_batches,\n",
    "                               validation_data=valid_batches,\n",
    "                               steps_per_epoch=step_size_train,\n",
    "                               epochs=20,\n",
    "                               verbose=1,\n",
    "                               class_weight='auto',\n",
    "                               validation_steps=2,\n",
    "                               callbacks = [early_stopping_monitor])"
   ]
  },
  {
   "cell_type": "code",
   "execution_count": 291,
   "metadata": {},
   "outputs": [
    {
     "data": {
      "image/png": "[encoded data removed]",
      "text/plain": [
       "<Figure size 432x288 with 1 Axes>"
      ]
     },
     "metadata": {
      "needs_background": "light"
     },
     "output_type": "display_data"
    },
    {
     "data": {
      "image/png": "[encoded data removed]",
      "text/plain": [
       "<Figure size 432x288 with 1 Axes>"
      ]
     },
     "metadata": {
      "needs_background": "light"
     },
     "output_type": "display_data"
    }
   ],
   "source": [
    "# 训练的acc_loss图\n",
    "def plot_training(history):\n",
    "  acc = history.history['acc']\n",
    "  val_acc = history.history['val_acc']\n",
    "  loss = history.history['loss']\n",
    "  val_loss = history.history['val_loss']\n",
    "  epochs = range(len(acc))\n",
    "  plt.plot(epochs, acc, 'r.')\n",
    "  plt.plot(epochs, val_acc, 'r')\n",
    "  plt.title('Training and validation accuracy')\n",
    "  plt.figure()\n",
    "  plt.plot(epochs, loss, 'r.')\n",
    "  plt.plot(epochs, val_loss, 'r-')\n",
    "  plt.title('Training and validation loss')\n",
    "  plt.show()\n",
    "\n",
    "plot_training(history_ft)"
   ]
  },
  {
   "cell_type": "code",
   "execution_count": 112,
   "metadata": {},
   "outputs": [
    {
     "name": "stdout",
     "output_type": "stream",
     "text": [
      "Saved mode-1 to disk\n"
     ]
    }
   ],
   "source": [
    "#儲存model權重 by h5\n",
    "model.save_weights(\"SaveModel/Tiger-Cat-Cappuccino-model-base-CNN.h5\")\n",
    "print(\"Saved mode to disk\")"
   ]
  },
  {
   "cell_type": "code",
   "execution_count": 309,
   "metadata": {},
   "outputs": [],
   "source": [
    "img_path = 'Tiger.jpg'\n",
    "img = image.load_img(img_path, target_size=(IPS, IPS))"
   ]
  },
  {
   "cell_type": "code",
   "execution_count": 310,
   "metadata": {},
   "outputs": [
    {
     "data": {
      "text/plain": [
       "array([0.23024124, 0.51537836, 0.25438038], dtype=float32)"
      ]
     },
     "execution_count": 310,
     "metadata": {},
     "output_type": "execute_result"
    }
   ],
   "source": [
    "# 預測函數\n",
    "# 輸入：model，圖片，目標尺寸\n",
    "# 輸出：預測predict\n",
    "target_size=(IPS, IPS)\n",
    "def predict(model, img, target_size):  \n",
    "    if img.size != target_size:\n",
    "        img = img.resize(target_size)\n",
    "\n",
    "    x = image.img_to_array(img)\n",
    "    x = np.expand_dims(x, axis=0)\n",
    "    x = preprocess_input(x)\n",
    "    x /= 255 # Rescale by 1/255\n",
    "    preds = model.predict(x)\n",
    "    return preds[0]\n",
    "\n",
    "train_batches.class_indices.items()\n",
    "preds = predict(model, img, target_size)\n",
    "preds"
   ]
  },
  {
   "cell_type": "code",
   "execution_count": 311,
   "metadata": {},
   "outputs": [
    {
     "data": {
      "image/png": "[encoded data removed]",
      "text/plain": [
       "<Figure size 432x288 with 1 Axes>"
      ]
     },
     "metadata": {
      "needs_background": "light"
     },
     "output_type": "display_data"
    },
    {
     "data": {
      "image/png": "[encoded data removed]",
      "text/plain": [
       "<Figure size 432x288 with 1 Axes>"
      ]
     },
     "metadata": {
      "needs_background": "light"
     },
     "output_type": "display_data"
    }
   ],
   "source": [
    "labels = ('Tiger', 'Cat','Cappuccino')\n",
    "def plot_preds(image, preds,labels):\n",
    "  \"\"\"Displays image and the top-n predicted probabilities in a bar graph\n",
    "  Args:\n",
    "    image: PIL image\n",
    "    preds: list of predicted labels and their probabilities\n",
    "  \"\"\"\n",
    "  plt.imshow(image)\n",
    "  plt.axis('off')\n",
    "  plt.figure()\n",
    "  plt.barh([0,1,2], preds, alpha=0.5)\n",
    "  plt.yticks([0,1,2], labels)\n",
    "  plt.xlabel('Probability')\n",
    "  plt.xlim(0,1.01)\n",
    "  plt.tight_layout()\n",
    "  plt.show()\n",
    "    \n",
    "plot_preds(img, preds,labels)"
   ]
  },
  {
   "cell_type": "code",
   "execution_count": null,
   "metadata": {},
   "outputs": [],
   "source": []
  }
 ],
 "metadata": {
  "kernelspec": {
   "display_name": "Python 3",
   "language": "python",
   "name": "python3"
  },
  "language_info": {
   "codemirror_mode": {
    "name": "ipython",
    "version": 3
   },
   "file_extension": ".py",
   "mimetype": "text/x-python",
   "name": "python",
   "nbconvert_exporter": "python",
   "pygments_lexer": "ipython3",
   "version": "3.6.6"
  }
 },
 "nbformat": 4,
 "nbformat_minor": 2
}
